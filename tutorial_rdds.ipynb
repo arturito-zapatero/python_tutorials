{
 "cells": [
  {
   "cell_type": "code",
   "execution_count": 8,
   "metadata": {},
   "outputs": [],
   "source": [
    "from pyspark.sql import SparkSession, SQLContext#, SparkContext\n",
    "\n",
    "spark = SparkSession\\\n",
    "        .builder\\\n",
    "        .appName(\"proceso-mediana\")\\\n",
    "        .config(\"spark.dynamicAllocation.enabled\", 'true')\\\n",
    "        .config(\"spark.dynamicAllocation.maxExecutors\", '3')\\\n",
    "        .config(\"spark.dynamicAllocation.minExecutors\", '1')\\\n",
    "        .config('spark.executor.cores', '8')\\\n",
    "        .config('spark.cores.max', '12')\\\n",
    "        .config(\"spark.executor.memory\", '6g')\\\n",
    "        .config(\"spark.driver.memory\", '15g')\\\n",
    "        .config(\"spark.driver.maxResultSize\", '7g')\\\n",
    "        .config(\"spark.sql.crossJoin.enabled\", \"true\")\\\n",
    "        .config(\"spark.shuffle.service.enabled\", \"true\")\\\n",
    "        .config(\"spark.sql.parquet.writeLegacyFormat\", \"true\")\\\n",
    "        .enableHiveSupport()\\\n",
    "        .getOrCreate()\n",
    "\n",
    "spark.sparkContext\n",
    "myCollection = \"Yo Soy Un Hombre CIncero De Donde Crecen Las Palmas\".split(\" \")\n",
    "nPartitions = 2\n",
    "words = spark.sparkContext.parallelize(myCollection, nPartitions)"
   ]
  },
  {
   "cell_type": "code",
   "execution_count": 12,
   "metadata": {},
   "outputs": [],
   "source": [
    "#creates key value pair ()\n",
    "wordsKeyValues = words.map(lambda word: (word.lower(), 1))"
   ]
  },
  {
   "cell_type": "markdown",
   "metadata": {},
   "source": [
    "[('yo', 1),\n",
    " ('soy', 1),\n",
    " ('un', 1),\n",
    " ('hombre', 1),\n",
    " ('cincero', 1),\n",
    " ('de', 1),\n",
    " ('donde', 1),\n",
    " ('crecen', 1),\n",
    " ('las', 1),\n",
    " ('palmas', 1)]"
   ]
  },
  {
   "cell_type": "code",
   "execution_count": 16,
   "metadata": {},
   "outputs": [],
   "source": [
    "wordsKeyValue2 = words.keyBy(lambda word: word.lower()[0])"
   ]
  },
  {
   "cell_type": "code",
   "execution_count": 17,
   "metadata": {},
   "outputs": [
    {
     "data": {
      "text/plain": [
       "[('y', 'Yo'),\n",
       " ('s', 'Soy'),\n",
       " ('u', 'Un'),\n",
       " ('h', 'Hombre'),\n",
       " ('c', 'CIncero'),\n",
       " ('d', 'De'),\n",
       " ('d', 'Donde'),\n",
       " ('c', 'Crecen'),\n",
       " ('l', 'Las'),\n",
       " ('p', 'Palmas')]"
      ]
     },
     "execution_count": 17,
     "metadata": {},
     "output_type": "execute_result"
    }
   ],
   "source": [
    "wordsKeyValue2.collect()"
   ]
  }
 ],
 "metadata": {
  "kernelspec": {
   "display_name": "Python 2",
   "language": "python",
   "name": "python2"
  },
  "language_info": {
   "codemirror_mode": {
    "name": "ipython",
    "version": 2
   },
   "file_extension": ".py",
   "mimetype": "text/x-python",
   "name": "python",
   "nbconvert_exporter": "python",
   "pygments_lexer": "ipython2",
   "version": "2.7.15"
  }
 },
 "nbformat": 4,
 "nbformat_minor": 2
}
